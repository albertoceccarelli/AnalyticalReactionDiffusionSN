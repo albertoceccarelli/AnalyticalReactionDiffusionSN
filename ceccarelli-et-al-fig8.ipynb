{
 "cells": [
  {
   "cell_type": "markdown",
   "metadata": {},
   "source": [
    "## Supplementary notebook for Size matters: An analytical study of the role of tissue size in spatiotemporal distribution of morphogens unveils a transition between different Reaction-Diffusion regimes.\n",
    "### Alberto S. Ceccarelli 1 , Augusto Borges 1, 2, 3 & Osvaldo Chara 1,4\n",
    "##### 1 Systems Biology Group, Institute of Physics of Liquids and Biological Systems, National Scientific and Technical Research Council, University of La Plata, La Plata, Argentina.\n",
    "##### 2 Research Unit of Sensory Biology & Organogenesis, Helmholtz Zentrum München, Munich, Germany.\n",
    "##### 3 Graduate School of Quantitative Biosciences (QBM), Munich, Germany.\n",
    "##### 4 Center for Information Services and High Performance Computing, Technische Universität Dresden, Dresden, Germany.\n",
    "##### *Corresponding author:\n",
    "##### Osvaldo Chara\n",
    "##### Center for Information Services and High Performance Computing (ZIH), Technische Universität Dresden, Nöthnitzer Straße 46, 01187 Dresden, Germany. Tel. +49 351 463-38780, E-mail: osvaldo.chara@tu-dresden.de\n",
    "##### Systems Biology Group (SysBio), Institute of Physics of Liquids and Biological Systems (IFLySIB), National Scientific and Technical Research Council (CONICET) and University of La Plata, Calle 59 N 789, 1900 La Plata, Argentina. Tel. +54 221 4233283 Ext: 26, E-mail: ochara@iflysib.unlp.edu.ar Web: http://sysbioiflysib.wordpress.com/"
   ]
  },
  {
   "cell_type": "markdown",
   "metadata": {},
   "source": [
    "## The next cell plots fig 8 from the paper.\n",
    "#### Run the following cell to plot fig 8 from the paper and to save it as a png image.\n",
    "##### Expected computational time: 12 minutes."
   ]
  },
  {
   "cell_type": "code",
   "execution_count": 2,
   "metadata": {},
   "outputs": [
    {
     "data": {
      "image/png": "[encoded data removed]",
      "text/plain": [
       "<Figure size 432x288 with 1 Axes>"
      ]
     },
     "metadata": {
      "needs_background": "light"
     },
     "output_type": "display_data"
    },
    {
     "data": {
      "image/png": "[encoded data removed]",
      "text/plain": [
       "<Figure size 432x288 with 2 Axes>"
      ]
     },
     "metadata": {
      "needs_background": "light"
     },
     "output_type": "display_data"
    },
    {
     "name": "stdout",
     "output_type": "stream",
     "text": [
      "My program took 692.4568083286285 seconds to run\n"
     ]
    }
   ],
   "source": [
    "# Import libraries.\n",
    "\n",
    "import numpy as np\n",
    "import matplotlib.pyplot as plt\n",
    "import seaborn as sns\n",
    "import matplotlib.colors\n",
    "from matplotlib.colors import LinearSegmentedColormap\n",
    "import time\n",
    "# A timer that calculates how much does the simulation take.\n",
    "start_time = time.time()\n",
    "# Define functons.\n",
    "# Calculate the steady state spatial morphogen concentration for a finite tissue.\n",
    "def cfin(x,R):\n",
    "    return np.sinh(-x+R)/np.cosh(R)\n",
    "# Calculate the steady state spatial morphogen concentration for an infinite domain.\n",
    "def cinf(x):\n",
    "    return np.exp(-x)\n",
    "# Calculate the error of using the steady state spatial morphogen concentration for an infinite domain with respect of the steady state spatial morphogen concentration for a finite tissue.\n",
    "def error(x,R):\n",
    "    return (cinf(x)-cfin(x,R))\n",
    "# Calculate the accumulated error using the simpson method to simulate the integral numerically.\n",
    "def accumulated_error(R):\n",
    "    n=100\n",
    "    h=R/n\n",
    "    aux=0\n",
    "    for i in range(1,50+1,1):\n",
    "        aux+=error((2*i-2)*R/n,R)+4*error((2*i-1)*R/n,R)+error((2*i)*R/n,R)\n",
    "    aux=aux*h/3\n",
    "    return aux\n",
    "\n",
    "# Define parameters and arrays necesary for the simulation.\n",
    "dr=0.1\n",
    "Rmax = 10\n",
    "lengths = np.arange(dr,Rmax+dr,dr)\n",
    "acc_er=[]\n",
    "# Loop over every R\n",
    "for ri in lengths:\n",
    "#     Calculates the accumulated error for every R\n",
    "    acc_er.append(accumulated_error(ri)/ri)\n",
    "# Plot accumulated error vs R\n",
    "plt.plot(lengths,acc_er, color=\"saddlebrown\")\n",
    "# Add the position of Rcritic\n",
    "plt.axvline(x=3.3, color=\"gold\", ls=\":\", label=\"$R_{crit}$\")\n",
    "# Set axis name and save the figure.\n",
    "plt.legend()\n",
    "plt.xlabel(\"R\")\n",
    "plt.ylabel(\"accumulated error\")\n",
    "plt.xlim(0, 10)\n",
    "plt.ylim(0, 1)\n",
    "plt.savefig(\"fig8-b.png\", dpi=500)\n",
    "plt.show()\n",
    "plt.close()\n",
    "\n",
    "\n",
    "\n",
    "\n",
    "# Define parameters and arrays necesary for the simulation.\n",
    "dr=0.001\n",
    "Rmax = 10\n",
    "lengths = np.arange(0,Rmax+dr,dr)\n",
    "positions = np.arange(0,Rmax+dr,dr)\n",
    "errores = np.empty((int(Rmax/dr+1),int(Rmax/dr+1)))\n",
    "errores[:]=np.nan\n",
    "\n",
    "# Loop over every R\n",
    "for R in lengths:\n",
    "#     Loop over every position.\n",
    "    for x in positions:\n",
    "        if x<=R:\n",
    "#             Calculate the error.\n",
    "            errores[int(x/dr),int(R/dr)]=error(x,R)\n",
    "# Creates custom colormap for the heatmap.\n",
    "vmax = 10.0\n",
    "cmap = LinearSegmentedColormap.from_list('mycmap', [(0 / vmax, 'lightcoral'),\n",
    "                                                    (0.5 / vmax, 'firebrick'),\n",
    "                                                    (1 / vmax, 'darkkhaki'),\n",
    "                                                    (1.5 / vmax, 'olivedrab'),\n",
    "                                                    (2 / vmax, 'lightsteelblue'),\n",
    "                                                    (2.5 / vmax, 'royalblue'),\n",
    "                                                    (3.3 / vmax, 'midnightblue'),\n",
    "                                                    (4 / vmax, 'lightgrey'),\n",
    "                                                    (10 / vmax, 'dimgrey')]\n",
    "                                        )\n",
    "# Creates heatmap of error vs R and position.\n",
    "ax = sns.heatmap(errores,xticklabels=lengths, yticklabels=positions, cmap=cmap,cbar_kws={'label': 'error'})\n",
    "# Set axis values and names.\n",
    "new_labels=[0,1,2,3,4,5,6,7,8,9,10]\n",
    "new_ticks = np.linspace(0, int(Rmax/dr), len(new_labels))\n",
    "ax.set_xticks(new_ticks)\n",
    "ax.set_xticklabels(new_labels)\n",
    "ax.set_yticks(new_ticks)\n",
    "ax.set_yticklabels(new_labels)\n",
    "ax.invert_yaxis()\n",
    "plt.xticks(rotation=0)\n",
    "plt.xlabel(\"R\")\n",
    "plt.ylabel(\"ε\",rotation=0)\n",
    "# Add the position of Rcrit.\n",
    "plt.axvline(x=3.3/dr, color=\"gold\", ls=\":\",label=\"$R_{crit}$\")\n",
    "plt.legend(loc=2)\n",
    "plt.axvline(x=0, color=\"black\")\n",
    "plt.axvline(x=Rmax/dr, color=\"black\")\n",
    "plt.axhline(y=0, color=\"black\")\n",
    "plt.axhline(y=Rmax/dr, color=\"black\")\n",
    "# Saves the figure.\n",
    "plt.savefig(\"fig8-a.png\", dpi=500)\n",
    "plt.show()\n",
    "plt.close()\n",
    "# Shows on screen how long the program took to run.\n",
    "print(\"My program took \"+str(time.time() - start_time)+\" seconds to run\")"
   ]
  },
  {
   "cell_type": "code",
   "execution_count": null,
   "metadata": {},
   "outputs": [],
   "source": []
  }
 ],
 "metadata": {
  "kernelspec": {
   "display_name": "Python 3",
   "language": "python",
   "name": "python3"
  },
  "language_info": {
   "codemirror_mode": {
    "name": "ipython",
    "version": 3
   },
   "file_extension": ".py",
   "mimetype": "text/x-python",
   "name": "python",
   "nbconvert_exporter": "python",
   "pygments_lexer": "ipython3",
   "version": "3.6.4"
  }
 },
 "nbformat": 4,
 "nbformat_minor": 4
}
