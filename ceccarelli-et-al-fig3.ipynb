{
 "cells": [
  {
   "cell_type": "markdown",
   "metadata": {},
   "source": [
    "## Supplementary notebook for Size matters: An analytical study of the role of tissue size in spatiotemporal distribution of morphogens unveils a transition between different Reaction-Diffusion regimes.\n",
    "### Alberto S. Ceccarelli 1 , Augusto Borges 1, 2, 3 & Osvaldo Chara 1,4\n",
    "##### 1 Systems Biology Group, Institute of Physics of Liquids and Biological Systems, National Scientific and Technical Research Council, University of La Plata, La Plata, Argentina.\n",
    "##### 2 Research Unit of Sensory Biology & Organogenesis, Helmholtz Zentrum München, Munich, Germany.\n",
    "##### 3 Graduate School of Quantitative Biosciences (QBM), Munich, Germany.\n",
    "##### 4 Center for Information Services and High Performance Computing, Technische Universität Dresden, Dresden, Germany.\n",
    "##### *Corresponding author:\n",
    "##### Osvaldo Chara\n",
    "##### Center for Information Services and High Performance Computing (ZIH), Technische Universität Dresden, Nöthnitzer Straße 46, 01187 Dresden, Germany. Tel. +49 351 463-38780, E-mail: osvaldo.chara@tu-dresden.de\n",
    "##### Systems Biology Group (SysBio), Institute of Physics of Liquids and Biological Systems (IFLySIB), National Scientific and Technical Research Council (CONICET) and University of La Plata, Calle 59 N 789, 1900 La Plata, Argentina. Tel. +54 221 4233283 Ext: 26, E-mail: ochara@iflysib.unlp.edu.ar Web: http://sysbioiflysib.wordpress.com/"
   ]
  },
  {
   "cell_type": "markdown",
   "metadata": {},
   "source": [
    "## The next cell plots fig 3 from the paper.\n",
    "#### Run the following cell to plot fig 3 from the paper and to save it as a png image.\n",
    "##### Expected computational time: less than 5 seconds."
   ]
  },
  {
   "cell_type": "code",
   "execution_count": 2,
   "metadata": {},
   "outputs": [
    {
     "data": {
      "image/png": "[encoded data removed]",
      "text/plain": [
       "<matplotlib.figure.Figure at 0xa9fce80>"
      ]
     },
     "metadata": {},
     "output_type": "display_data"
    }
   ],
   "source": [
    "# Plots ε10 vs R in steady state and adds the position of Rcrit as a vertical dashed line.\n",
    "\n",
    "# Import libraries.\n",
    "import numpy as np\n",
    "import matplotlib.pyplot as plt\n",
    "\n",
    "# Function is defined\n",
    "# Calculates ε10 for a given R.\n",
    "def epsilon10(R):\n",
    "    return R-np.arcsinh(np.sinh(R)/10)\n",
    "\n",
    "# Define the length of the r step.\n",
    "dr=0.01\n",
    "# Define the maximum value of R\n",
    "Rmax = 10\n",
    "# Define an array with all the R\n",
    "lengths = np.arange(dr,Rmax+dr,dr)\n",
    "# Define an empty array that is going to be used later\n",
    "epsilon10values=[]\n",
    "# Loop over all values of R.\n",
    "for R in lengths:\n",
    "#     Store the values of ε10.\n",
    "    epsilon10values.append(epsilon10(R))\n",
    "# Plot ε10 vs R\n",
    "plt.plot(lengths,epsilon10values,color=\"black\")\n",
    "# Adds the position of Rcrit as a vertical dashed line.\n",
    "plt.axvline(x=3.3, color=\"gold\", ls=\":\",label=\"$R_{crit}$\")\n",
    "# Adds the value of epsilon10 in an infinite tissue\n",
    "plt.axhline(y=np.log(10), color=\"darkorchid\", ls=\"--\", label=\"infinite domain\")\n",
    "# Adds the legend and name the axis.\n",
    "plt.legend(loc=7)\n",
    "plt.xlabel(\"R\")\n",
    "plt.ylabel(r\"$\\epsilon_{10}$\")\n",
    "# Set axis limits.\n",
    "plt.xlim(0,10)\n",
    "plt.ylim(0,2.5)\n",
    "# Save the plot and show the figure.\n",
    "plt.savefig(\"fig3.png\", dpi=500)\n",
    "plt.show()\n",
    "plt.close()"
   ]
  },
  {
   "cell_type": "code",
   "execution_count": null,
   "metadata": {},
   "outputs": [],
   "source": []
  }
 ],
 "metadata": {
  "kernelspec": {
   "display_name": "Python 3",
   "language": "python",
   "name": "python3"
  },
  "language_info": {
   "codemirror_mode": {
    "name": "ipython",
    "version": 3
   },
   "file_extension": ".py",
   "mimetype": "text/x-python",
   "name": "python",
   "nbconvert_exporter": "python",
   "pygments_lexer": "ipython3",
   "version": "3.6.4"
  }
 },
 "nbformat": 4,
 "nbformat_minor": 4
}
