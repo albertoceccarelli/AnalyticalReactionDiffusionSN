{
 "cells": [
  {
   "cell_type": "markdown",
   "metadata": {},
   "source": [
    "## Supplementary notebook for Size matters: An analytical study of the role of tissue size in spatiotemporal distribution of morphogens unveils a transition between different Reaction-Diffusion regimes.\n",
    "### Alberto S. Ceccarelli 1 , Augusto Borges 1, 2, 3 & Osvaldo Chara 1,4\n",
    "##### 1 Systems Biology Group, Institute of Physics of Liquids and Biological Systems, National Scientific and Technical Research Council, University of La Plata, La Plata, Argentina.\n",
    "##### 2 Research Unit of Sensory Biology & Organogenesis, Helmholtz Zentrum München, Munich, Germany.\n",
    "##### 3 Graduate School of Quantitative Biosciences (QBM), Munich, Germany.\n",
    "##### 4 Center for Information Services and High Performance Computing, Technische Universität Dresden, Dresden, Germany.\n",
    "##### *Corresponding author:\n",
    "##### Osvaldo Chara\n",
    "##### Center for Information Services and High Performance Computing (ZIH), Technische Universität Dresden, Nöthnitzer Straße 46, 01187 Dresden, Germany. Tel. +49 351 463-38780, E-mail: osvaldo.chara@tu-dresden.de\n",
    "##### Systems Biology Group (SysBio), Institute of Physics of Liquids and Biological Systems (IFLySIB), National Scientific and Technical Research Council (CONICET) and University of La Plata, Calle 59 N 789, 1900 La Plata, Argentina. Tel. +54 221 4233283 Ext: 26, E-mail: ochara@iflysib.unlp.edu.ar Web: http://sysbioiflysib.wordpress.com/"
   ]
  },
  {
   "cell_type": "markdown",
   "metadata": {},
   "source": [
    "## The next cell plots fig 6 from the paper.\n",
    "#### Run the following cell to plot fig 6 from the paper and to save it as a png image.\n",
    "##### Expected computational time: 5 seconds."
   ]
  },
  {
   "cell_type": "code",
   "execution_count": 17,
   "metadata": {},
   "outputs": [
    {
     "data": {
      "image/png": "[encoded data removed]",
      "text/plain": [
       "<Figure size 432x288 with 1 Axes>"
      ]
     },
     "metadata": {
      "needs_background": "light"
     },
     "output_type": "display_data"
    }
   ],
   "source": [
    "# Import libraries\n",
    "import numpy as np\n",
    "from scipy.optimize import curve_fit\n",
    "import matplotlib.pyplot as plt\n",
    "\n",
    "# Define functions\n",
    "# This function calculates the morphogen concentration in a finite tissue at the steady state using the analytic \n",
    "# solution.\n",
    "def ss_finite(x):\n",
    "    return (np.exp(-x/characteristic)/(1+np.exp(-2*L/characteristic))-np.exp(x/characteristic)/(1+np.exp(2*L/characteristic)))\n",
    "\n",
    "# This function calculates the morphogen concentration in an infinite tissue at the steady state using the analytic \n",
    "# solution.\n",
    "def ss_infinite(x,characteristic):\n",
    "    return np.exp(-x/characteristic)\n",
    "\n",
    "# Define parameters\n",
    "characteristic = 1\n",
    "lengths=np.arange(0.1,10.1,0.1)\n",
    "lambdas=[]\n",
    "# Loop over diferent tissue sizes\n",
    "for length in lengths:\n",
    "    L=length\n",
    "\n",
    "#     Simulate data using the finite model\n",
    "    x = np.arange(0,L+L/100,L/100)\n",
    "    y = ss_finite(x)\n",
    "\n",
    "#     Calculates the characteristic length from the fit of the infinite solution\n",
    "    params = curve_fit(ss_infinite, x, y)\n",
    "    [a] = params[0]\n",
    "    lambdas.append(a)\n",
    "    \n",
    "\n",
    "# Plot the results\n",
    "plt.plot(lengths, lambdas)\n",
    "plt.axvline(x=3.3, color=\"gold\", ls=\":\", label=\"$R_{crit}$\",linewidth=3.0)\n",
    "plt.xlabel('R')\n",
    "plt.ylabel('λ')\n",
    "plt.legend(loc=(0.75,0.1),prop={'size': 13})\n",
    "plt.savefig(\"fig6.png\",dpi=300)\n",
    "plt.show()\n",
    "plt.close()"
   ]
  }
 ],
 "metadata": {
  "kernelspec": {
   "display_name": "Python 3",
   "language": "python",
   "name": "python3"
  },
  "language_info": {
   "codemirror_mode": {
    "name": "ipython",
    "version": 3
   },
   "file_extension": ".py",
   "mimetype": "text/x-python",
   "name": "python",
   "nbconvert_exporter": "python",
   "pygments_lexer": "ipython3",
   "version": "3.6.4"
  }
 },
 "nbformat": 4,
 "nbformat_minor": 4
}
