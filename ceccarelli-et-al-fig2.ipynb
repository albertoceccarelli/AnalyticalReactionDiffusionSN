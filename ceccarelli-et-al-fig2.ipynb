{
 "cells": [
  {
   "cell_type": "markdown",
   "metadata": {},
   "source": [
    "## Supplementary notebook for Size matters: An analytical study of the role of tissue size in spatiotemporal distribution of morphogens unveils a transition between different Reaction-Diffusion regimes.\n",
    "### Alberto S. Ceccarelli 1 , Augusto Borges 1, 2, 3 & Osvaldo Chara 1,4\n",
    "##### 1 Systems Biology Group, Institute of Physics of Liquids and Biological Systems, National Scientific and Technical Research Council, University of La Plata, La Plata, Argentina.\n",
    "##### 2 Research Unit of Sensory Biology & Organogenesis, Helmholtz Zentrum München, Munich, Germany.\n",
    "##### 3 Graduate School of Quantitative Biosciences (QBM), Munich, Germany.\n",
    "##### 4 Center for Information Services and High Performance Computing, Technische Universität Dresden, Dresden, Germany.\n",
    "##### *Corresponding author:\n",
    "##### Osvaldo Chara\n",
    "##### Center for Information Services and High Performance Computing (ZIH), Technische Universität Dresden, Nöthnitzer Straße 46, 01187 Dresden, Germany. Tel. +49 351 463-38780, E-mail: osvaldo.chara@tu-dresden.de\n",
    "##### Systems Biology Group (SysBio), Institute of Physics of Liquids and Biological Systems (IFLySIB), National Scientific and Technical Research Council (CONICET) and University of La Plata, Calle 59 N 789, 1900 La Plata, Argentina. Tel. +54 221 4233283 Ext: 26, E-mail: ochara@iflysib.unlp.edu.ar Web: http://sysbioiflysib.wordpress.com/"
   ]
  },
  {
   "cell_type": "markdown",
   "metadata": {},
   "source": [
    "## The next cell plots fig 2 from the paper.\n",
    "#### Run the following cell to plot fig 2 from the paper and to save it as a png image.\n",
    "##### Expected computational time: 1 minute."
   ]
  },
  {
   "cell_type": "code",
   "execution_count": 18,
   "metadata": {},
   "outputs": [
    {
     "data": {
      "image/png": "[encoded data removed]",
      "text/plain": [
       "<Figure size 432x288 with 2 Axes>"
      ]
     },
     "metadata": {
      "needs_background": "light"
     },
     "output_type": "display_data"
    },
    {
     "name": "stdout",
     "output_type": "stream",
     "text": [
      "My program took 67.95259118080139 seconds to run\n"
     ]
    }
   ],
   "source": [
    "# This cell plots fig 2. It is a heatmap for different tissue lengths (R) that plots the concentration in time and \n",
    "# space. The solution for an infinite tissue and for R=Rcrit are added as dotted lines.\n",
    "\n",
    "# Import libraries.\n",
    "import numpy as np\n",
    "import matplotlib.pyplot as plt\n",
    "import matplotlib.colors\n",
    "from matplotlib.colors import LinearSegmentedColormap\n",
    "import time\n",
    "# Start the timer to know how long the program took to run.\n",
    "start_time = time.time()\n",
    "\n",
    "# Function definition.\n",
    "\n",
    "# This function calculates the morphogen concentration in an infinite tissue at the steady state using the analytic \n",
    "# solution previously reported.\n",
    "def ss_infinite(x):\n",
    "    return np.exp(-x)\n",
    "\n",
    "# This function calculates the morphogen concentration in a finite tissue at the steady state using the analytic \n",
    "# solution presented in this work.\n",
    "def ss_finite(x,R):\n",
    "    if x <= R:\n",
    "        return (np.exp(-x)/(1+np.exp(-2*R))-np.exp(x)/(1+np.exp(2*R)))\n",
    "    else:\n",
    "        return -1\n",
    "\n",
    "# Defines arrays that are going to be used later.\n",
    "steps = 1000\n",
    "rrange = np.arange(0.001, 10,  0.001)\n",
    "maxr = max(rrange)\n",
    "xrange = np.arange(0, maxr + maxr/steps, maxr/steps)\n",
    "matrix = np.empty((steps, len(xrange)))\n",
    "matrix[:]=np.nan\n",
    "r33pos = []\n",
    "r33c = []\n",
    "carr = []\n",
    "xarr = []\n",
    "rarr = []\n",
    "infinitC = []\n",
    "infinitPos = []\n",
    "xaxis = np.arange(0, maxr+1, 2)\n",
    "caxis = np.arange(0, 1+0.1, 0.2)\n",
    "caxis1 = np.arange(0, steps+1, steps/5)\n",
    "caxis= np.round(caxis, 2)\n",
    "\n",
    "# Calculates the morphogen concentration in an infinite tissue.\n",
    "for x in xrange:\n",
    "    infinitPos.append(int(np.where(xrange==x)[0]))\n",
    "    infinitC.append(ss_infinite(x)*steps)    \n",
    "\n",
    "# For every R, calculates and stores the concentration in all the tissue.    \n",
    "j = -1\n",
    "for R in rrange:\n",
    "    for x in xrange:\n",
    "        j += 1\n",
    "        carr = ss_finite(x, R)\n",
    "        where = int(carr*steps)\n",
    "        matrix[where, np.where(xrange==x)] = R\n",
    "        if R == 3.3 and carr != -1:\n",
    "            r33pos.append(int(np.where(xrange==x)[0]))\n",
    "            r33c.append(where)\n",
    "\n",
    "# Creates a colormap.\n",
    "vmax = 10.0\n",
    "\n",
    "cmap = LinearSegmentedColormap.from_list('mycmap', [(0 / vmax, 'lightcoral'),\n",
    "                                                    (0.5 / vmax, 'firebrick'),\n",
    "                                                    (1 / vmax, 'darkkhaki'),\n",
    "                                                    (1.5 / vmax, 'olivedrab'),\n",
    "                                                    (2 / vmax, 'lightsteelblue'),\n",
    "                                                    (2.5 / vmax, 'royalblue'),\n",
    "                                                    (3.3 / vmax, 'midnightblue'),\n",
    "                                                    (4 / vmax, 'lightgrey'),\n",
    "                                                    (10 / vmax, 'dimgrey')]\n",
    "                                        )\n",
    "\n",
    "\n",
    "# Creates the heatmap.\n",
    "plt.imshow(matrix, origin=\"lower\",cmap = cmap)\n",
    "# Set axis label and ticks.\n",
    "plt.yticks(caxis1, caxis)\n",
    "plt.xticks(caxis1, xaxis)\n",
    "plt.xlabel(\"ε\")\n",
    "plt.ylabel(\"C\")\n",
    "\n",
    "# Adds the solution for an infinite tissue as a dashed line.\n",
    "plt.plot(infinitPos, infinitC, color=\"darkorchid\", ls=\"--\", label=\"infinite domain\")\n",
    "# Adds the solution for R=Rcrit as a dashed line.\n",
    "plt.plot(r33pos, r33c, color=\"gold\", ls=\":\", label=\"$R_{crit}$\")\n",
    "# Adds the colorbar.\n",
    "cbar = plt.colorbar()\n",
    "plt.legend()\n",
    "cbar.set_label(\"R\")\n",
    "# Saves and shows the image\n",
    "plt.savefig(\"fig2.png\", dpi=500)\n",
    "plt.show()\n",
    "plt.close()\n",
    "# Shows on screen how much time it took the program to run.\n",
    "print(\"My program took \"+str(time.time() - start_time)+\" seconds to run\")"
   ]
  },
  {
   "cell_type": "code",
   "execution_count": null,
   "metadata": {},
   "outputs": [],
   "source": []
  }
 ],
 "metadata": {
  "kernelspec": {
   "display_name": "Python 3",
   "language": "python",
   "name": "python3"
  },
  "language_info": {
   "codemirror_mode": {
    "name": "ipython",
    "version": 3
   },
   "file_extension": ".py",
   "mimetype": "text/x-python",
   "name": "python",
   "nbconvert_exporter": "python",
   "pygments_lexer": "ipython3",
   "version": "3.6.4"
  }
 },
 "nbformat": 4,
 "nbformat_minor": 4
}
