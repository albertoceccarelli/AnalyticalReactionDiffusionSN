{
 "cells": [
  {
   "cell_type": "markdown",
   "metadata": {},
   "source": [
    "# Supplementary notebook for Size matters: An analytical study of the role of tissue size in spatiotemporal distribution of morphogens unveils a transition between different Reaction-Diffusion regimes.\n",
    "Alberto S. Ceccarelli<sup>1</sup>, Augusto Borges<sup>1</sup>,<sup>1</sup> & Osvaldo Chara<sup>1</sup>,<sup>3</sup>\n",
    "\n",
    "<sup>1</sup> Systems Biology Group, Institute of Physics of Liquids and Biological Systems, National Scientific and Technical Research Council, University of La Plata, La Plata, Argentina.\n",
    "\n",
    "<sup>2</sup> Research Unit of Sensory Biology & Organogenesis and Graduate School of Quantitative Biosciences (QBM), Helmholtz Zentrum München, Ingolstädter Landstraße 1, 85764 Neuherberg, Germany.\n",
    "\n",
    "<sup>3</sup> Center for Information Services and High Performance Computing, Technische Universität Dresden, Dresden, Germany.\n",
    "\n",
    "#### Corresponding author:\n",
    "Osvaldo Chara\n",
    "\n",
    "Center for Information Services and High Performance Computing (ZIH), Technische Universität Dresden, Nöthnitzer Straße 46, 01187 Dresden, Germany. Tel. +49 351 463-38780, E-mail: osvaldo.chara@tu-dresden.de\n",
    "\n",
    "Systems Biology Group (SysBio), Institute of Physics of Liquids and Biological Systems (IFLySIB), National Scientific and Technical Research Council (CONICET) and University of La Plata, Calle 59 N 789, 1900 La Plata, Argentina. \n",
    "\n",
    "Tel. +54 221 4233283 Ext: 26, E-mail: ochara@iflysib.unlp.edu.ar \n",
    "\n",
    "Web: http://sysbioiflysib.wordpress.com/\n"
   ]
  },
  {
   "cell_type": "markdown",
   "metadata": {},
   "source": [
    "## Introduction\n",
    "\n",
    "These notebook contains the source code for simulations performed in Ceccarelli et al., 2020a. \n",
    "You should note that some calculations will take too much time to run. If you have questions concerning the code, please contact the authors.\n",
    "\n",
    "Please also make sure you visited https://github.com/albertoceccarelli/AnalyticalReactionDiffusionSN to make sure you have the latest version of the notebooks and for getting instructions how to view them and/or get them running.\n",
    "\n",
    "## List of notebooks\n",
    "\n",
    "* [Fig 1](ceccarelli-et-al-fig1.ipynb):\n",
    "    * Fig 1: The morphogen spatial profile predicted from the reaction-diffusion model for finite tissues converges to the profile predicted from the model assuming infinite domains. \n",
    "* [Fig 2](ceccarelli-et-al-fig2.ipynb)\n",
    "    * Fig 2: Morphogen spatial profile of the reaction-diffusion model of finite tissues at the steady state transitions from line-like to exponential-like curve when the tissue size increases. \n",
    "* [Fig 3](ceccarelli-et-al-fig3.ipynb):\n",
    "    * Fig 3: The geometrical factor ε<sub>10</sub> characterizing the steady state profiles of the reaction-diffusion model for finite tissues (solid line) linearly grows with the tissue size (R, tissue length in nondimensional units) until it converges to the ε<sub>10</sub> predicted from the model assuming an infinite domain (dashed line). \n",
    "* [Fig 4](ceccarelli-et-al-fig4.ipynb):\n",
    "    * Fig 4: The larger the tissue, the longer the time to reach the steady state.\n",
    "* [Fig 5](ceccarelli-et-al-fig5.ipynb):\n",
    "    * Fig 5: The mean time to reach the steady state and its standard deviation grow with tissue size. \n",
    "* [Fig 6](ceccarelli-et-al-fig6.ipynb):\n",
    "    * Fig 6: The reaction-diffusion model assuming a finite domain is a better approximation than the model assuming an infinite domain when the tissue size is smaller than the critical tissue size. \n",
    "* [Fig S.1.](ceccarelli-et-al-figs1.ipynb):\n",
    "    * Fig S.1.: Comparison between the numerical and analytical solution for the concentration as a function of space for different times. \n",
    "* [Table S.1.](ceccarelli-et-al-table-s1.ipynb):\n",
    "    * Table S.1.: Comparison between the computational time needed to perform the simulation using the numerical and analytical solution for the concentration as a function of space for different times with different domain length (R). "
   ]
  },
  {
   "cell_type": "code",
   "execution_count": null,
   "metadata": {},
   "outputs": [],
   "source": []
  }
 ],
 "metadata": {
  "kernelspec": {
   "display_name": "Python 3",
   "language": "python",
   "name": "python3"
  },
  "language_info": {
   "codemirror_mode": {
    "name": "ipython",
    "version": 3
   },
   "file_extension": ".py",
   "mimetype": "text/x-python",
   "name": "python",
   "nbconvert_exporter": "python",
   "pygments_lexer": "ipython3",
   "version": "3.6.4"
  }
 },
 "nbformat": 4,
 "nbformat_minor": 2
}
